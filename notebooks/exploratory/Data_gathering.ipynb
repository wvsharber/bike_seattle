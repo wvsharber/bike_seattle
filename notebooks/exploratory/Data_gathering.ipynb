{
 "cells": [
  {
   "cell_type": "markdown",
   "metadata": {},
   "source": [
    "# Data Gathering Notebook\n",
    "\n",
    "This notebook is for gathering the data required for further analyses."
   ]
  },
  {
   "cell_type": "code",
   "execution_count": 39,
   "metadata": {},
   "outputs": [],
   "source": [
    "import pandas as pd\n",
    "import json\n",
    "import requests\n",
    "import os\n",
    "from datetime import datetime, timedelta"
   ]
  },
  {
   "cell_type": "markdown",
   "metadata": {},
   "source": [
    "## Bike Ridership Data\n",
    "\n",
    "The bike ridership data comes from data.seattle.gov and can be downloaded as a csv. The data represents the number of bike riders crossing the Fremont Bridge hourly. \n",
    "\n",
    "In the `data/raw/` directory, run the following command to download and rename the data for the bike ridership data across the Fremont Bridge:\n",
    "```\n",
    "wget https://data.seattle.gov/api/views/65db-xm6k/rows.csv?accessType=DOWNLOAD\n",
    "mv rows.csv?accessType=DOWNLOAD Fremont_bridge.csv\n",
    "```"
   ]
  },
  {
   "cell_type": "code",
   "execution_count": 3,
   "metadata": {},
   "outputs": [],
   "source": [
    "#Read in the csv file as a pandas DataFrame\n",
    "bike = pd.read_csv(\"../../data/raw/Fremont_bridge.csv\")"
   ]
  },
  {
   "cell_type": "code",
   "execution_count": 13,
   "metadata": {},
   "outputs": [
    {
     "data": {
      "text/plain": [
       "'10/03/2012 12:00:00 AM'"
      ]
     },
     "execution_count": 13,
     "metadata": {},
     "output_type": "execute_result"
    }
   ],
   "source": [
    "#Get first date in Bike data\n",
    "bike.iloc[0, 0]"
   ]
  },
  {
   "cell_type": "code",
   "execution_count": 21,
   "metadata": {},
   "outputs": [],
   "source": [
    "#Reformat Date column to Datetime\n",
    "bike['Date'] = pd.to_datetime(bike['Date'], format = \"%m/%d/%Y %I:%M:%S %p\")"
   ]
  },
  {
   "cell_type": "code",
   "execution_count": 22,
   "metadata": {},
   "outputs": [
    {
     "data": {
      "text/html": [
       "<div>\n",
       "<style scoped>\n",
       "    .dataframe tbody tr th:only-of-type {\n",
       "        vertical-align: middle;\n",
       "    }\n",
       "\n",
       "    .dataframe tbody tr th {\n",
       "        vertical-align: top;\n",
       "    }\n",
       "\n",
       "    .dataframe thead th {\n",
       "        text-align: right;\n",
       "    }\n",
       "</style>\n",
       "<table border=\"1\" class=\"dataframe\">\n",
       "  <thead>\n",
       "    <tr style=\"text-align: right;\">\n",
       "      <th></th>\n",
       "      <th>Date</th>\n",
       "      <th>Fremont Bridge Total</th>\n",
       "      <th>Fremont Bridge East Sidewalk</th>\n",
       "      <th>Fremont Bridge West Sidewalk</th>\n",
       "    </tr>\n",
       "  </thead>\n",
       "  <tbody>\n",
       "    <tr>\n",
       "      <th>0</th>\n",
       "      <td>2012-10-03 00:00:00</td>\n",
       "      <td>13.0</td>\n",
       "      <td>4.0</td>\n",
       "      <td>9.0</td>\n",
       "    </tr>\n",
       "    <tr>\n",
       "      <th>1</th>\n",
       "      <td>2012-10-03 01:00:00</td>\n",
       "      <td>10.0</td>\n",
       "      <td>4.0</td>\n",
       "      <td>6.0</td>\n",
       "    </tr>\n",
       "    <tr>\n",
       "      <th>2</th>\n",
       "      <td>2012-10-03 02:00:00</td>\n",
       "      <td>2.0</td>\n",
       "      <td>1.0</td>\n",
       "      <td>1.0</td>\n",
       "    </tr>\n",
       "    <tr>\n",
       "      <th>3</th>\n",
       "      <td>2012-10-03 03:00:00</td>\n",
       "      <td>5.0</td>\n",
       "      <td>2.0</td>\n",
       "      <td>3.0</td>\n",
       "    </tr>\n",
       "    <tr>\n",
       "      <th>4</th>\n",
       "      <td>2012-10-03 04:00:00</td>\n",
       "      <td>7.0</td>\n",
       "      <td>6.0</td>\n",
       "      <td>1.0</td>\n",
       "    </tr>\n",
       "  </tbody>\n",
       "</table>\n",
       "</div>"
      ],
      "text/plain": [
       "                 Date  Fremont Bridge Total  Fremont Bridge East Sidewalk  \\\n",
       "0 2012-10-03 00:00:00                  13.0                           4.0   \n",
       "1 2012-10-03 01:00:00                  10.0                           4.0   \n",
       "2 2012-10-03 02:00:00                   2.0                           1.0   \n",
       "3 2012-10-03 03:00:00                   5.0                           2.0   \n",
       "4 2012-10-03 04:00:00                   7.0                           6.0   \n",
       "\n",
       "   Fremont Bridge West Sidewalk  \n",
       "0                           9.0  \n",
       "1                           6.0  \n",
       "2                           1.0  \n",
       "3                           3.0  \n",
       "4                           1.0  "
      ]
     },
     "execution_count": 22,
     "metadata": {},
     "output_type": "execute_result"
    }
   ],
   "source": [
    "bike.head()"
   ]
  },
  {
   "cell_type": "markdown",
   "metadata": {},
   "source": [
    "## Weather Data\n",
    "\n",
    "The weather data comes from the Dark Sky API, which provides up to 1000 API requests daily for free with a registered API key.\n",
    "\n",
    "Dates for the Dark Sky API must be in this format: `[YYYY]-[MM]-[DD]T[HH]:[MM]:[SS]`"
   ]
  },
  {
   "cell_type": "code",
   "execution_count": 60,
   "metadata": {},
   "outputs": [],
   "source": [
    "#Set start and end dates for API calling\n",
    "start_date = datetime.fromisoformat('2012-10-03T12:00:00')\n",
    "end_date = datetime.fromisoformat('2019-10-03T12:00:00')\n",
    "#Set latitude/longitude for the Fremont Bridge (taken from Google Maps)\n",
    "lat = \"47.648170\"\n",
    "long = \"-122.349640\""
   ]
  },
  {
   "cell_type": "code",
   "execution_count": 15,
   "metadata": {},
   "outputs": [],
   "source": [
    "def get_keys(path):\n",
    "    with open(path) as f:\n",
    "        return json.load(f)"
   ]
  },
  {
   "cell_type": "code",
   "execution_count": 16,
   "metadata": {},
   "outputs": [],
   "source": [
    "keys = get_keys(\"/Users/wvsharber/.secret/darksky_api.json\")\n",
    "api_key = keys['api_key']"
   ]
  },
  {
   "cell_type": "code",
   "execution_count": 49,
   "metadata": {},
   "outputs": [
    {
     "data": {
      "text/plain": [
       "datetime.datetime(2012, 10, 4, 12, 0)"
      ]
     },
     "execution_count": 49,
     "metadata": {},
     "output_type": "execute_result"
    }
   ],
   "source": [
    "start_date + timedelta(days=1)"
   ]
  },
  {
   "cell_type": "code",
   "execution_count": 50,
   "metadata": {},
   "outputs": [
    {
     "data": {
      "text/plain": [
       "'2012-10-03T12:00:00'"
      ]
     },
     "execution_count": 50,
     "metadata": {},
     "output_type": "execute_result"
    }
   ],
   "source": [
    "start_date.isoformat()"
   ]
  },
  {
   "cell_type": "code",
   "execution_count": 73,
   "metadata": {},
   "outputs": [],
   "source": [
    "next_date = start_date\n",
    "counter = 0\n",
    "weather = pd.DataFrame()\n",
    "url_template = \"https://api.darksky.net/forecast/{}/{},{},{}?exclude=currently,minutely,hourly,alerts,flags\""
   ]
  },
  {
   "cell_type": "code",
   "execution_count": 94,
   "metadata": {},
   "outputs": [],
   "source": [
    "counter = 0"
   ]
  },
  {
   "cell_type": "code",
   "execution_count": 95,
   "metadata": {},
   "outputs": [],
   "source": [
    "while next_date <= end_date and counter <= 975:\n",
    "    request_url = url_template.format(api_key,\n",
    "                                      lat, #latitude\n",
    "                                      long, #longitude\n",
    "                                      next_date.isoformat())\n",
    "    response = requests.get(request_url)\n",
    "    if response.status_code == 200:\n",
    "        response_dict = response.json()\n",
    "        weather = weather.append(response_dict['daily']['data'][0], ignore_index = True)\n",
    "        next_date += timedelta(days=1)\n",
    "        counter += 1\n",
    "    else:\n",
    "        print(f\"Failed at {next_date}\")\n",
    "        break"
   ]
  },
  {
   "cell_type": "code",
   "execution_count": 96,
   "metadata": {},
   "outputs": [
    {
     "data": {
      "text/plain": [
       "datetime.datetime(2019, 10, 4, 12, 0)"
      ]
     },
     "execution_count": 96,
     "metadata": {},
     "output_type": "execute_result"
    }
   ],
   "source": [
    "next_date"
   ]
  },
  {
   "cell_type": "code",
   "execution_count": 85,
   "metadata": {
    "scrolled": true
   },
   "outputs": [
    {
     "data": {
      "text/plain": [
       "403"
      ]
     },
     "execution_count": 85,
     "metadata": {},
     "output_type": "execute_result"
    }
   ],
   "source": [
    "response.status_code"
   ]
  },
  {
   "cell_type": "code",
   "execution_count": 98,
   "metadata": {},
   "outputs": [
    {
     "data": {
      "text/plain": [
       "2557"
      ]
     },
     "execution_count": 98,
     "metadata": {},
     "output_type": "execute_result"
    }
   ],
   "source": [
    "len(weather)"
   ]
  },
  {
   "cell_type": "code",
   "execution_count": 97,
   "metadata": {},
   "outputs": [],
   "source": [
    "import pickle\n",
    "\n",
    "with open(\"../../data/raw/weather.pkl\", 'wb') as handle:\n",
    "    pickle.dump(weather, handle)"
   ]
  },
  {
   "cell_type": "code",
   "execution_count": 99,
   "metadata": {},
   "outputs": [
    {
     "data": {
      "text/html": [
       "<div>\n",
       "<style scoped>\n",
       "    .dataframe tbody tr th:only-of-type {\n",
       "        vertical-align: middle;\n",
       "    }\n",
       "\n",
       "    .dataframe tbody tr th {\n",
       "        vertical-align: top;\n",
       "    }\n",
       "\n",
       "    .dataframe thead th {\n",
       "        text-align: right;\n",
       "    }\n",
       "</style>\n",
       "<table border=\"1\" class=\"dataframe\">\n",
       "  <thead>\n",
       "    <tr style=\"text-align: right;\">\n",
       "      <th></th>\n",
       "      <th>apparentTemperatureHigh</th>\n",
       "      <th>apparentTemperatureHighTime</th>\n",
       "      <th>apparentTemperatureLow</th>\n",
       "      <th>apparentTemperatureLowTime</th>\n",
       "      <th>apparentTemperatureMax</th>\n",
       "      <th>apparentTemperatureMaxTime</th>\n",
       "      <th>apparentTemperatureMin</th>\n",
       "      <th>apparentTemperatureMinTime</th>\n",
       "      <th>cloudCover</th>\n",
       "      <th>dewPoint</th>\n",
       "      <th>...</th>\n",
       "      <th>time</th>\n",
       "      <th>uvIndex</th>\n",
       "      <th>uvIndexTime</th>\n",
       "      <th>visibility</th>\n",
       "      <th>windBearing</th>\n",
       "      <th>windGust</th>\n",
       "      <th>windGustTime</th>\n",
       "      <th>windSpeed</th>\n",
       "      <th>precipAccumulation</th>\n",
       "      <th>ozone</th>\n",
       "    </tr>\n",
       "  </thead>\n",
       "  <tbody>\n",
       "    <tr>\n",
       "      <th>2552</th>\n",
       "      <td>57.20</td>\n",
       "      <td>1.569798e+09</td>\n",
       "      <td>39.22</td>\n",
       "      <td>1.569851e+09</td>\n",
       "      <td>57.20</td>\n",
       "      <td>1.569798e+09</td>\n",
       "      <td>44.08</td>\n",
       "      <td>1.569763e+09</td>\n",
       "      <td>0.47</td>\n",
       "      <td>42.06</td>\n",
       "      <td>...</td>\n",
       "      <td>1.569740e+09</td>\n",
       "      <td>3.0</td>\n",
       "      <td>1.569787e+09</td>\n",
       "      <td>10.0</td>\n",
       "      <td>19.0</td>\n",
       "      <td>9.39</td>\n",
       "      <td>1.569798e+09</td>\n",
       "      <td>4.66</td>\n",
       "      <td>NaN</td>\n",
       "      <td>359.4</td>\n",
       "    </tr>\n",
       "    <tr>\n",
       "      <th>2553</th>\n",
       "      <td>60.14</td>\n",
       "      <td>1.569881e+09</td>\n",
       "      <td>39.30</td>\n",
       "      <td>1.569941e+09</td>\n",
       "      <td>60.14</td>\n",
       "      <td>1.569881e+09</td>\n",
       "      <td>39.22</td>\n",
       "      <td>1.569851e+09</td>\n",
       "      <td>0.07</td>\n",
       "      <td>36.46</td>\n",
       "      <td>...</td>\n",
       "      <td>1.569827e+09</td>\n",
       "      <td>4.0</td>\n",
       "      <td>1.569873e+09</td>\n",
       "      <td>10.0</td>\n",
       "      <td>13.0</td>\n",
       "      <td>7.90</td>\n",
       "      <td>1.569885e+09</td>\n",
       "      <td>4.35</td>\n",
       "      <td>NaN</td>\n",
       "      <td>341.0</td>\n",
       "    </tr>\n",
       "    <tr>\n",
       "      <th>2554</th>\n",
       "      <td>63.85</td>\n",
       "      <td>1.569970e+09</td>\n",
       "      <td>41.19</td>\n",
       "      <td>1.570019e+09</td>\n",
       "      <td>63.85</td>\n",
       "      <td>1.569970e+09</td>\n",
       "      <td>39.30</td>\n",
       "      <td>1.569941e+09</td>\n",
       "      <td>0.07</td>\n",
       "      <td>38.76</td>\n",
       "      <td>...</td>\n",
       "      <td>1.569913e+09</td>\n",
       "      <td>4.0</td>\n",
       "      <td>1.569960e+09</td>\n",
       "      <td>10.0</td>\n",
       "      <td>106.0</td>\n",
       "      <td>5.51</td>\n",
       "      <td>1.569978e+09</td>\n",
       "      <td>2.92</td>\n",
       "      <td>NaN</td>\n",
       "      <td>310.7</td>\n",
       "    </tr>\n",
       "    <tr>\n",
       "      <th>2555</th>\n",
       "      <td>65.89</td>\n",
       "      <td>1.570054e+09</td>\n",
       "      <td>51.88</td>\n",
       "      <td>1.570101e+09</td>\n",
       "      <td>65.89</td>\n",
       "      <td>1.570054e+09</td>\n",
       "      <td>41.31</td>\n",
       "      <td>1.570020e+09</td>\n",
       "      <td>0.53</td>\n",
       "      <td>41.73</td>\n",
       "      <td>...</td>\n",
       "      <td>1.570000e+09</td>\n",
       "      <td>3.0</td>\n",
       "      <td>1.570046e+09</td>\n",
       "      <td>10.0</td>\n",
       "      <td>171.0</td>\n",
       "      <td>5.52</td>\n",
       "      <td>1.570059e+09</td>\n",
       "      <td>2.78</td>\n",
       "      <td>NaN</td>\n",
       "      <td>296.4</td>\n",
       "    </tr>\n",
       "    <tr>\n",
       "      <th>2556</th>\n",
       "      <td>62.26</td>\n",
       "      <td>1.570139e+09</td>\n",
       "      <td>45.92</td>\n",
       "      <td>1.570197e+09</td>\n",
       "      <td>62.26</td>\n",
       "      <td>1.570139e+09</td>\n",
       "      <td>51.56</td>\n",
       "      <td>1.570169e+09</td>\n",
       "      <td>0.59</td>\n",
       "      <td>46.86</td>\n",
       "      <td>...</td>\n",
       "      <td>1.570086e+09</td>\n",
       "      <td>3.0</td>\n",
       "      <td>1.570133e+09</td>\n",
       "      <td>10.0</td>\n",
       "      <td>181.0</td>\n",
       "      <td>20.20</td>\n",
       "      <td>1.570112e+09</td>\n",
       "      <td>7.55</td>\n",
       "      <td>NaN</td>\n",
       "      <td>330.5</td>\n",
       "    </tr>\n",
       "  </tbody>\n",
       "</table>\n",
       "<p>5 rows × 40 columns</p>\n",
       "</div>"
      ],
      "text/plain": [
       "      apparentTemperatureHigh  apparentTemperatureHighTime  \\\n",
       "2552                    57.20                 1.569798e+09   \n",
       "2553                    60.14                 1.569881e+09   \n",
       "2554                    63.85                 1.569970e+09   \n",
       "2555                    65.89                 1.570054e+09   \n",
       "2556                    62.26                 1.570139e+09   \n",
       "\n",
       "      apparentTemperatureLow  apparentTemperatureLowTime  \\\n",
       "2552                   39.22                1.569851e+09   \n",
       "2553                   39.30                1.569941e+09   \n",
       "2554                   41.19                1.570019e+09   \n",
       "2555                   51.88                1.570101e+09   \n",
       "2556                   45.92                1.570197e+09   \n",
       "\n",
       "      apparentTemperatureMax  apparentTemperatureMaxTime  \\\n",
       "2552                   57.20                1.569798e+09   \n",
       "2553                   60.14                1.569881e+09   \n",
       "2554                   63.85                1.569970e+09   \n",
       "2555                   65.89                1.570054e+09   \n",
       "2556                   62.26                1.570139e+09   \n",
       "\n",
       "      apparentTemperatureMin  apparentTemperatureMinTime  cloudCover  \\\n",
       "2552                   44.08                1.569763e+09        0.47   \n",
       "2553                   39.22                1.569851e+09        0.07   \n",
       "2554                   39.30                1.569941e+09        0.07   \n",
       "2555                   41.31                1.570020e+09        0.53   \n",
       "2556                   51.56                1.570169e+09        0.59   \n",
       "\n",
       "      dewPoint  ...          time uvIndex   uvIndexTime  visibility  \\\n",
       "2552     42.06  ...  1.569740e+09     3.0  1.569787e+09        10.0   \n",
       "2553     36.46  ...  1.569827e+09     4.0  1.569873e+09        10.0   \n",
       "2554     38.76  ...  1.569913e+09     4.0  1.569960e+09        10.0   \n",
       "2555     41.73  ...  1.570000e+09     3.0  1.570046e+09        10.0   \n",
       "2556     46.86  ...  1.570086e+09     3.0  1.570133e+09        10.0   \n",
       "\n",
       "      windBearing  windGust  windGustTime windSpeed  precipAccumulation  ozone  \n",
       "2552         19.0      9.39  1.569798e+09      4.66                 NaN  359.4  \n",
       "2553         13.0      7.90  1.569885e+09      4.35                 NaN  341.0  \n",
       "2554        106.0      5.51  1.569978e+09      2.92                 NaN  310.7  \n",
       "2555        171.0      5.52  1.570059e+09      2.78                 NaN  296.4  \n",
       "2556        181.0     20.20  1.570112e+09      7.55                 NaN  330.5  \n",
       "\n",
       "[5 rows x 40 columns]"
      ]
     },
     "execution_count": 99,
     "metadata": {},
     "output_type": "execute_result"
    }
   ],
   "source": [
    "weather.tail()"
   ]
  },
  {
   "cell_type": "code",
   "execution_count": 100,
   "metadata": {},
   "outputs": [
    {
     "data": {
      "text/plain": [
       "Index(['apparentTemperatureHigh', 'apparentTemperatureHighTime',\n",
       "       'apparentTemperatureLow', 'apparentTemperatureLowTime',\n",
       "       'apparentTemperatureMax', 'apparentTemperatureMaxTime',\n",
       "       'apparentTemperatureMin', 'apparentTemperatureMinTime', 'cloudCover',\n",
       "       'dewPoint', 'humidity', 'icon', 'moonPhase', 'precipIntensity',\n",
       "       'precipIntensityMax', 'precipIntensityMaxTime', 'precipProbability',\n",
       "       'precipType', 'pressure', 'summary', 'sunriseTime', 'sunsetTime',\n",
       "       'temperatureHigh', 'temperatureHighTime', 'temperatureLow',\n",
       "       'temperatureLowTime', 'temperatureMax', 'temperatureMaxTime',\n",
       "       'temperatureMin', 'temperatureMinTime', 'time', 'uvIndex',\n",
       "       'uvIndexTime', 'visibility', 'windBearing', 'windGust', 'windGustTime',\n",
       "       'windSpeed', 'precipAccumulation', 'ozone'],\n",
       "      dtype='object')"
      ]
     },
     "execution_count": 100,
     "metadata": {},
     "output_type": "execute_result"
    }
   ],
   "source": [
    "weather.columns"
   ]
  },
  {
   "cell_type": "code",
   "execution_count": null,
   "metadata": {},
   "outputs": [],
   "source": []
  }
 ],
 "metadata": {
  "kernelspec": {
   "display_name": "bike-env",
   "language": "python",
   "name": "bike-env"
  },
  "language_info": {
   "codemirror_mode": {
    "name": "ipython",
    "version": 3
   },
   "file_extension": ".py",
   "mimetype": "text/x-python",
   "name": "python",
   "nbconvert_exporter": "python",
   "pygments_lexer": "ipython3",
   "version": "3.8.3"
  }
 },
 "nbformat": 4,
 "nbformat_minor": 4
}
