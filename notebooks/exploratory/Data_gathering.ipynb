{
 "cells": [
  {
   "cell_type": "markdown",
   "metadata": {},
   "source": [
    "# Data Gathering Notebook\n",
    "\n",
    "This notebook is for gathering the data required for further analyses."
   ]
  },
  {
   "cell_type": "code",
   "execution_count": 39,
   "metadata": {},
   "outputs": [],
   "source": [
    "import pandas as pd\n",
    "import json\n",
    "import requests\n",
    "import os\n",
    "from datetime import datetime, timedelta"
   ]
  },
  {
   "cell_type": "markdown",
   "metadata": {},
   "source": [
    "## Bike Ridership Data\n",
    "\n",
    "The bike ridership data comes from data.seattle.gov and can be downloaded as a csv. The data represents the number of bike riders crossing the Fremont Bridge hourly. \n",
    "\n",
    "In the `data/raw/` directory, run the following command to download and rename the data for the bike ridership data across the Fremont Bridge:\n",
    "```\n",
    "wget https://data.seattle.gov/api/views/65db-xm6k/rows.csv?accessType=DOWNLOAD\n",
    "mv rows.csv?accessType=DOWNLOAD Fremont_bridge.csv\n",
    "```"
   ]
  },
  {
   "cell_type": "code",
   "execution_count": 3,
   "metadata": {},
   "outputs": [],
   "source": [
    "#Read in the csv file as a pandas DataFrame\n",
    "bike = pd.read_csv(\"../../data/raw/Fremont_bridge.csv\")"
   ]
  },
  {
   "cell_type": "code",
   "execution_count": 13,
   "metadata": {},
   "outputs": [
    {
     "data": {
      "text/plain": [
       "'10/03/2012 12:00:00 AM'"
      ]
     },
     "execution_count": 13,
     "metadata": {},
     "output_type": "execute_result"
    }
   ],
   "source": [
    "#Get first date in Bike data\n",
    "bike.iloc[0, 0]"
   ]
  },
  {
   "cell_type": "code",
   "execution_count": 21,
   "metadata": {},
   "outputs": [],
   "source": [
    "#Reformat Date column to Datetime\n",
    "bike['Date'] = pd.to_datetime(bike['Date'], format = \"%m/%d/%Y %I:%M:%S %p\")"
   ]
  },
  {
   "cell_type": "code",
   "execution_count": 22,
   "metadata": {},
   "outputs": [
    {
     "data": {
      "text/html": [
       "<div>\n",
       "<style scoped>\n",
       "    .dataframe tbody tr th:only-of-type {\n",
       "        vertical-align: middle;\n",
       "    }\n",
       "\n",
       "    .dataframe tbody tr th {\n",
       "        vertical-align: top;\n",
       "    }\n",
       "\n",
       "    .dataframe thead th {\n",
       "        text-align: right;\n",
       "    }\n",
       "</style>\n",
       "<table border=\"1\" class=\"dataframe\">\n",
       "  <thead>\n",
       "    <tr style=\"text-align: right;\">\n",
       "      <th></th>\n",
       "      <th>Date</th>\n",
       "      <th>Fremont Bridge Total</th>\n",
       "      <th>Fremont Bridge East Sidewalk</th>\n",
       "      <th>Fremont Bridge West Sidewalk</th>\n",
       "    </tr>\n",
       "  </thead>\n",
       "  <tbody>\n",
       "    <tr>\n",
       "      <th>0</th>\n",
       "      <td>2012-10-03 00:00:00</td>\n",
       "      <td>13.0</td>\n",
       "      <td>4.0</td>\n",
       "      <td>9.0</td>\n",
       "    </tr>\n",
       "    <tr>\n",
       "      <th>1</th>\n",
       "      <td>2012-10-03 01:00:00</td>\n",
       "      <td>10.0</td>\n",
       "      <td>4.0</td>\n",
       "      <td>6.0</td>\n",
       "    </tr>\n",
       "    <tr>\n",
       "      <th>2</th>\n",
       "      <td>2012-10-03 02:00:00</td>\n",
       "      <td>2.0</td>\n",
       "      <td>1.0</td>\n",
       "      <td>1.0</td>\n",
       "    </tr>\n",
       "    <tr>\n",
       "      <th>3</th>\n",
       "      <td>2012-10-03 03:00:00</td>\n",
       "      <td>5.0</td>\n",
       "      <td>2.0</td>\n",
       "      <td>3.0</td>\n",
       "    </tr>\n",
       "    <tr>\n",
       "      <th>4</th>\n",
       "      <td>2012-10-03 04:00:00</td>\n",
       "      <td>7.0</td>\n",
       "      <td>6.0</td>\n",
       "      <td>1.0</td>\n",
       "    </tr>\n",
       "  </tbody>\n",
       "</table>\n",
       "</div>"
      ],
      "text/plain": [
       "                 Date  Fremont Bridge Total  Fremont Bridge East Sidewalk  \\\n",
       "0 2012-10-03 00:00:00                  13.0                           4.0   \n",
       "1 2012-10-03 01:00:00                  10.0                           4.0   \n",
       "2 2012-10-03 02:00:00                   2.0                           1.0   \n",
       "3 2012-10-03 03:00:00                   5.0                           2.0   \n",
       "4 2012-10-03 04:00:00                   7.0                           6.0   \n",
       "\n",
       "   Fremont Bridge West Sidewalk  \n",
       "0                           9.0  \n",
       "1                           6.0  \n",
       "2                           1.0  \n",
       "3                           3.0  \n",
       "4                           1.0  "
      ]
     },
     "execution_count": 22,
     "metadata": {},
     "output_type": "execute_result"
    }
   ],
   "source": [
    "bike.head()"
   ]
  },
  {
   "cell_type": "markdown",
   "metadata": {},
   "source": [
    "## Weather Data\n",
    "\n",
    "The weather data comes from the Dark Sky API, which provides up to 1000 API requests daily for free with a registered API key.\n",
    "\n",
    "Dates for the Dark Sky API must be in this format: `[YYYY]-[MM]-[DD]T[HH]:[MM]:[SS]`"
   ]
  },
  {
   "cell_type": "code",
   "execution_count": 60,
   "metadata": {},
   "outputs": [],
   "source": [
    "#Set start and end dates for API calling\n",
    "start_date = datetime.fromisoformat('2012-10-03T12:00:00')\n",
    "end_date = datetime.fromisoformat('2019-10-03T12:00:00')\n",
    "#Set latitude/longitude for the Fremont Bridge (taken from Google Maps)\n",
    "lat = \"47.648170\"\n",
    "long = \"-122.349640\""
   ]
  },
  {
   "cell_type": "code",
   "execution_count": 15,
   "metadata": {},
   "outputs": [],
   "source": [
    "def get_keys(path):\n",
    "    with open(path) as f:\n",
    "        return json.load(f)"
   ]
  },
  {
   "cell_type": "code",
   "execution_count": 16,
   "metadata": {},
   "outputs": [],
   "source": [
    "keys = get_keys(\"/Users/wvsharber/.secret/darksky_api.json\")\n",
    "api_key = keys['api_key']"
   ]
  },
  {
   "cell_type": "code",
   "execution_count": 49,
   "metadata": {},
   "outputs": [
    {
     "data": {
      "text/plain": [
       "datetime.datetime(2012, 10, 4, 12, 0)"
      ]
     },
     "execution_count": 49,
     "metadata": {},
     "output_type": "execute_result"
    }
   ],
   "source": [
    "start_date + timedelta(days=1)"
   ]
  },
  {
   "cell_type": "code",
   "execution_count": 50,
   "metadata": {},
   "outputs": [
    {
     "data": {
      "text/plain": [
       "'2012-10-03T12:00:00'"
      ]
     },
     "execution_count": 50,
     "metadata": {},
     "output_type": "execute_result"
    }
   ],
   "source": [
    "start_date.isoformat()"
   ]
  },
  {
   "cell_type": "code",
   "execution_count": 73,
   "metadata": {},
   "outputs": [],
   "source": [
    "next_date = start_date\n",
    "counter = 0\n",
    "weather = pd.DataFrame()\n",
    "url_template = \"https://api.darksky.net/forecast/{}/{},{},{}?exclude=currently,minutely,hourly,alerts,flags\""
   ]
  },
  {
   "cell_type": "code",
   "execution_count": 82,
   "metadata": {},
   "outputs": [],
   "source": [
    "counter = 0"
   ]
  },
  {
   "cell_type": "code",
   "execution_count": 83,
   "metadata": {},
   "outputs": [
    {
     "name": "stdout",
     "output_type": "stream",
     "text": [
      "Failed at 2015-06-18 12:00:00\n"
     ]
    }
   ],
   "source": [
    "while next_date <= end_date and counter <= 975:\n",
    "    request_url = url_template.format(api_key,\n",
    "                                      lat, #latitude\n",
    "                                      long, #longitude\n",
    "                                      next_date.isoformat())\n",
    "    response = requests.get(request_url)\n",
    "    if response.status_code == 200:\n",
    "        response_dict = response.json()\n",
    "        weather = weather.append(response_dict['daily']['data'][0], ignore_index = True)\n",
    "        next_date += timedelta(days=1)\n",
    "        counter += 1\n",
    "    else:\n",
    "        print(f\"Failed at {next_date}\")\n",
    "        break"
   ]
  },
  {
   "cell_type": "code",
   "execution_count": 86,
   "metadata": {},
   "outputs": [
    {
     "data": {
      "text/plain": [
       "datetime.datetime(2015, 6, 18, 12, 0)"
      ]
     },
     "execution_count": 86,
     "metadata": {},
     "output_type": "execute_result"
    }
   ],
   "source": [
    "next_date"
   ]
  },
  {
   "cell_type": "code",
   "execution_count": 85,
   "metadata": {
    "scrolled": true
   },
   "outputs": [
    {
     "data": {
      "text/plain": [
       "403"
      ]
     },
     "execution_count": 85,
     "metadata": {},
     "output_type": "execute_result"
    }
   ],
   "source": [
    "response.status_code"
   ]
  },
  {
   "cell_type": "code",
   "execution_count": 75,
   "metadata": {},
   "outputs": [
    {
     "data": {
      "text/plain": [
       "976"
      ]
     },
     "execution_count": 75,
     "metadata": {},
     "output_type": "execute_result"
    }
   ],
   "source": [
    "len(weather)"
   ]
  },
  {
   "cell_type": "code",
   "execution_count": 87,
   "metadata": {},
   "outputs": [],
   "source": [
    "import pickle\n",
    "\n",
    "with open(\"../../data/raw/weather.pkl\", 'wb') as handle:\n",
    "    pickle.dump(weather, handle)"
   ]
  },
  {
   "cell_type": "code",
   "execution_count": 79,
   "metadata": {},
   "outputs": [
    {
     "data": {
      "text/html": [
       "<div>\n",
       "<style scoped>\n",
       "    .dataframe tbody tr th:only-of-type {\n",
       "        vertical-align: middle;\n",
       "    }\n",
       "\n",
       "    .dataframe tbody tr th {\n",
       "        vertical-align: top;\n",
       "    }\n",
       "\n",
       "    .dataframe thead th {\n",
       "        text-align: right;\n",
       "    }\n",
       "</style>\n",
       "<table border=\"1\" class=\"dataframe\">\n",
       "  <thead>\n",
       "    <tr style=\"text-align: right;\">\n",
       "      <th></th>\n",
       "      <th>apparentTemperatureHigh</th>\n",
       "      <th>apparentTemperatureHighTime</th>\n",
       "      <th>apparentTemperatureLow</th>\n",
       "      <th>apparentTemperatureLowTime</th>\n",
       "      <th>apparentTemperatureMax</th>\n",
       "      <th>apparentTemperatureMaxTime</th>\n",
       "      <th>apparentTemperatureMin</th>\n",
       "      <th>apparentTemperatureMinTime</th>\n",
       "      <th>cloudCover</th>\n",
       "      <th>dewPoint</th>\n",
       "      <th>...</th>\n",
       "      <th>temperatureMinTime</th>\n",
       "      <th>time</th>\n",
       "      <th>uvIndex</th>\n",
       "      <th>uvIndexTime</th>\n",
       "      <th>visibility</th>\n",
       "      <th>windBearing</th>\n",
       "      <th>windGust</th>\n",
       "      <th>windGustTime</th>\n",
       "      <th>windSpeed</th>\n",
       "      <th>precipAccumulation</th>\n",
       "    </tr>\n",
       "  </thead>\n",
       "  <tbody>\n",
       "    <tr>\n",
       "      <th>971</th>\n",
       "      <td>60.98</td>\n",
       "      <td>1.433200e+09</td>\n",
       "      <td>55.51</td>\n",
       "      <td>1.433248e+09</td>\n",
       "      <td>60.98</td>\n",
       "      <td>1.433200e+09</td>\n",
       "      <td>54.86</td>\n",
       "      <td>1.433165e+09</td>\n",
       "      <td>0.77</td>\n",
       "      <td>52.05</td>\n",
       "      <td>...</td>\n",
       "      <td>1.433165e+09</td>\n",
       "      <td>1.433142e+09</td>\n",
       "      <td>5.0</td>\n",
       "      <td>1.433192e+09</td>\n",
       "      <td>10.000</td>\n",
       "      <td>185.0</td>\n",
       "      <td>10.71</td>\n",
       "      <td>1.433168e+09</td>\n",
       "      <td>2.77</td>\n",
       "      <td>NaN</td>\n",
       "    </tr>\n",
       "    <tr>\n",
       "      <th>972</th>\n",
       "      <td>62.67</td>\n",
       "      <td>1.433282e+09</td>\n",
       "      <td>54.36</td>\n",
       "      <td>1.433343e+09</td>\n",
       "      <td>62.67</td>\n",
       "      <td>1.433282e+09</td>\n",
       "      <td>55.51</td>\n",
       "      <td>1.433248e+09</td>\n",
       "      <td>0.98</td>\n",
       "      <td>52.24</td>\n",
       "      <td>...</td>\n",
       "      <td>1.433248e+09</td>\n",
       "      <td>1.433228e+09</td>\n",
       "      <td>5.0</td>\n",
       "      <td>1.433278e+09</td>\n",
       "      <td>9.914</td>\n",
       "      <td>188.0</td>\n",
       "      <td>10.49</td>\n",
       "      <td>1.433279e+09</td>\n",
       "      <td>3.26</td>\n",
       "      <td>NaN</td>\n",
       "    </tr>\n",
       "    <tr>\n",
       "      <th>973</th>\n",
       "      <td>65.73</td>\n",
       "      <td>1.433376e+09</td>\n",
       "      <td>52.41</td>\n",
       "      <td>1.433418e+09</td>\n",
       "      <td>65.73</td>\n",
       "      <td>1.433376e+09</td>\n",
       "      <td>54.36</td>\n",
       "      <td>1.433343e+09</td>\n",
       "      <td>0.91</td>\n",
       "      <td>51.55</td>\n",
       "      <td>...</td>\n",
       "      <td>1.433343e+09</td>\n",
       "      <td>1.433315e+09</td>\n",
       "      <td>5.0</td>\n",
       "      <td>1.433363e+09</td>\n",
       "      <td>9.955</td>\n",
       "      <td>273.0</td>\n",
       "      <td>8.01</td>\n",
       "      <td>1.433381e+09</td>\n",
       "      <td>1.82</td>\n",
       "      <td>NaN</td>\n",
       "    </tr>\n",
       "    <tr>\n",
       "      <th>974</th>\n",
       "      <td>70.36</td>\n",
       "      <td>1.433462e+09</td>\n",
       "      <td>53.42</td>\n",
       "      <td>1.433508e+09</td>\n",
       "      <td>70.36</td>\n",
       "      <td>1.433462e+09</td>\n",
       "      <td>52.41</td>\n",
       "      <td>1.433418e+09</td>\n",
       "      <td>0.58</td>\n",
       "      <td>50.19</td>\n",
       "      <td>...</td>\n",
       "      <td>1.433418e+09</td>\n",
       "      <td>1.433401e+09</td>\n",
       "      <td>7.0</td>\n",
       "      <td>1.433451e+09</td>\n",
       "      <td>9.997</td>\n",
       "      <td>334.0</td>\n",
       "      <td>10.16</td>\n",
       "      <td>1.433462e+09</td>\n",
       "      <td>2.21</td>\n",
       "      <td>NaN</td>\n",
       "    </tr>\n",
       "    <tr>\n",
       "      <th>975</th>\n",
       "      <td>76.22</td>\n",
       "      <td>1.433549e+09</td>\n",
       "      <td>54.67</td>\n",
       "      <td>1.433595e+09</td>\n",
       "      <td>76.22</td>\n",
       "      <td>1.433549e+09</td>\n",
       "      <td>53.42</td>\n",
       "      <td>1.433508e+09</td>\n",
       "      <td>0.10</td>\n",
       "      <td>52.08</td>\n",
       "      <td>...</td>\n",
       "      <td>1.433508e+09</td>\n",
       "      <td>1.433488e+09</td>\n",
       "      <td>8.0</td>\n",
       "      <td>1.433537e+09</td>\n",
       "      <td>9.992</td>\n",
       "      <td>331.0</td>\n",
       "      <td>10.44</td>\n",
       "      <td>1.433545e+09</td>\n",
       "      <td>2.24</td>\n",
       "      <td>NaN</td>\n",
       "    </tr>\n",
       "  </tbody>\n",
       "</table>\n",
       "<p>5 rows × 39 columns</p>\n",
       "</div>"
      ],
      "text/plain": [
       "     apparentTemperatureHigh  apparentTemperatureHighTime  \\\n",
       "971                    60.98                 1.433200e+09   \n",
       "972                    62.67                 1.433282e+09   \n",
       "973                    65.73                 1.433376e+09   \n",
       "974                    70.36                 1.433462e+09   \n",
       "975                    76.22                 1.433549e+09   \n",
       "\n",
       "     apparentTemperatureLow  apparentTemperatureLowTime  \\\n",
       "971                   55.51                1.433248e+09   \n",
       "972                   54.36                1.433343e+09   \n",
       "973                   52.41                1.433418e+09   \n",
       "974                   53.42                1.433508e+09   \n",
       "975                   54.67                1.433595e+09   \n",
       "\n",
       "     apparentTemperatureMax  apparentTemperatureMaxTime  \\\n",
       "971                   60.98                1.433200e+09   \n",
       "972                   62.67                1.433282e+09   \n",
       "973                   65.73                1.433376e+09   \n",
       "974                   70.36                1.433462e+09   \n",
       "975                   76.22                1.433549e+09   \n",
       "\n",
       "     apparentTemperatureMin  apparentTemperatureMinTime  cloudCover  dewPoint  \\\n",
       "971                   54.86                1.433165e+09        0.77     52.05   \n",
       "972                   55.51                1.433248e+09        0.98     52.24   \n",
       "973                   54.36                1.433343e+09        0.91     51.55   \n",
       "974                   52.41                1.433418e+09        0.58     50.19   \n",
       "975                   53.42                1.433508e+09        0.10     52.08   \n",
       "\n",
       "     ...  temperatureMinTime          time  uvIndex   uvIndexTime  visibility  \\\n",
       "971  ...        1.433165e+09  1.433142e+09      5.0  1.433192e+09      10.000   \n",
       "972  ...        1.433248e+09  1.433228e+09      5.0  1.433278e+09       9.914   \n",
       "973  ...        1.433343e+09  1.433315e+09      5.0  1.433363e+09       9.955   \n",
       "974  ...        1.433418e+09  1.433401e+09      7.0  1.433451e+09       9.997   \n",
       "975  ...        1.433508e+09  1.433488e+09      8.0  1.433537e+09       9.992   \n",
       "\n",
       "     windBearing  windGust  windGustTime  windSpeed precipAccumulation  \n",
       "971        185.0     10.71  1.433168e+09       2.77                NaN  \n",
       "972        188.0     10.49  1.433279e+09       3.26                NaN  \n",
       "973        273.0      8.01  1.433381e+09       1.82                NaN  \n",
       "974        334.0     10.16  1.433462e+09       2.21                NaN  \n",
       "975        331.0     10.44  1.433545e+09       2.24                NaN  \n",
       "\n",
       "[5 rows x 39 columns]"
      ]
     },
     "execution_count": 79,
     "metadata": {},
     "output_type": "execute_result"
    }
   ],
   "source": [
    "weather.tail()"
   ]
  },
  {
   "cell_type": "code",
   "execution_count": null,
   "metadata": {},
   "outputs": [],
   "source": []
  }
 ],
 "metadata": {
  "kernelspec": {
   "display_name": "bike-env",
   "language": "python",
   "name": "bike-env"
  },
  "language_info": {
   "codemirror_mode": {
    "name": "ipython",
    "version": 3
   },
   "file_extension": ".py",
   "mimetype": "text/x-python",
   "name": "python",
   "nbconvert_exporter": "python",
   "pygments_lexer": "ipython3",
   "version": "3.8.3"
  }
 },
 "nbformat": 4,
 "nbformat_minor": 4
}
