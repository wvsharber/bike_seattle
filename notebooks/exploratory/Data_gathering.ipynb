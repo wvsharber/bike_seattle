{
 "cells": [
  {
   "cell_type": "markdown",
   "metadata": {},
   "source": [
    "# Data Gathering Notebook\n",
    "\n",
    "This notebook is for gathering the data required for further analyses."
   ]
  },
  {
   "cell_type": "code",
   "execution_count": 39,
   "metadata": {},
   "outputs": [],
   "source": [
    "import pandas as pd\n",
    "import json\n",
    "import requests\n",
    "import os\n",
    "from datetime import datetime, timedelta"
   ]
  },
  {
   "cell_type": "markdown",
   "metadata": {},
   "source": [
    "## Bike Ridership Data\n",
    "\n",
    "The bike ridership data comes from data.seattle.gov and can be downloaded as a csv. The data represents the number of bike riders crossing the Fremont Bridge hourly. \n",
    "\n",
    "In the `data/raw/` directory, run the following command to download and rename the data for the bike ridership data across the Fremont Bridge:\n",
    "```\n",
    "wget https://data.seattle.gov/api/views/65db-xm6k/rows.csv?accessType=DOWNLOAD\n",
    "mv rows.csv?accessType=DOWNLOAD Fremont_bridge.csv\n",
    "```"
   ]
  },
  {
   "cell_type": "code",
   "execution_count": 3,
   "metadata": {},
   "outputs": [],
   "source": [
    "#Read in the csv file as a pandas DataFrame\n",
    "bike = pd.read_csv(\"../../data/raw/Fremont_bridge.csv\")"
   ]
  },
  {
   "cell_type": "code",
   "execution_count": 13,
   "metadata": {},
   "outputs": [
    {
     "data": {
      "text/plain": [
       "'10/03/2012 12:00:00 AM'"
      ]
     },
     "execution_count": 13,
     "metadata": {},
     "output_type": "execute_result"
    }
   ],
   "source": [
    "#Get first date in Bike data\n",
    "bike.iloc[0, 0]"
   ]
  },
  {
   "cell_type": "code",
   "execution_count": 21,
   "metadata": {},
   "outputs": [],
   "source": [
    "#Reformat Date column to Datetime\n",
    "bike['Date'] = pd.to_datetime(bike['Date'], format = \"%m/%d/%Y %I:%M:%S %p\")"
   ]
  },
  {
   "cell_type": "code",
   "execution_count": 22,
   "metadata": {},
   "outputs": [
    {
     "data": {
      "text/html": [
       "<div>\n",
       "<style scoped>\n",
       "    .dataframe tbody tr th:only-of-type {\n",
       "        vertical-align: middle;\n",
       "    }\n",
       "\n",
       "    .dataframe tbody tr th {\n",
       "        vertical-align: top;\n",
       "    }\n",
       "\n",
       "    .dataframe thead th {\n",
       "        text-align: right;\n",
       "    }\n",
       "</style>\n",
       "<table border=\"1\" class=\"dataframe\">\n",
       "  <thead>\n",
       "    <tr style=\"text-align: right;\">\n",
       "      <th></th>\n",
       "      <th>Date</th>\n",
       "      <th>Fremont Bridge Total</th>\n",
       "      <th>Fremont Bridge East Sidewalk</th>\n",
       "      <th>Fremont Bridge West Sidewalk</th>\n",
       "    </tr>\n",
       "  </thead>\n",
       "  <tbody>\n",
       "    <tr>\n",
       "      <th>0</th>\n",
       "      <td>2012-10-03 00:00:00</td>\n",
       "      <td>13.0</td>\n",
       "      <td>4.0</td>\n",
       "      <td>9.0</td>\n",
       "    </tr>\n",
       "    <tr>\n",
       "      <th>1</th>\n",
       "      <td>2012-10-03 01:00:00</td>\n",
       "      <td>10.0</td>\n",
       "      <td>4.0</td>\n",
       "      <td>6.0</td>\n",
       "    </tr>\n",
       "    <tr>\n",
       "      <th>2</th>\n",
       "      <td>2012-10-03 02:00:00</td>\n",
       "      <td>2.0</td>\n",
       "      <td>1.0</td>\n",
       "      <td>1.0</td>\n",
       "    </tr>\n",
       "    <tr>\n",
       "      <th>3</th>\n",
       "      <td>2012-10-03 03:00:00</td>\n",
       "      <td>5.0</td>\n",
       "      <td>2.0</td>\n",
       "      <td>3.0</td>\n",
       "    </tr>\n",
       "    <tr>\n",
       "      <th>4</th>\n",
       "      <td>2012-10-03 04:00:00</td>\n",
       "      <td>7.0</td>\n",
       "      <td>6.0</td>\n",
       "      <td>1.0</td>\n",
       "    </tr>\n",
       "  </tbody>\n",
       "</table>\n",
       "</div>"
      ],
      "text/plain": [
       "                 Date  Fremont Bridge Total  Fremont Bridge East Sidewalk  \\\n",
       "0 2012-10-03 00:00:00                  13.0                           4.0   \n",
       "1 2012-10-03 01:00:00                  10.0                           4.0   \n",
       "2 2012-10-03 02:00:00                   2.0                           1.0   \n",
       "3 2012-10-03 03:00:00                   5.0                           2.0   \n",
       "4 2012-10-03 04:00:00                   7.0                           6.0   \n",
       "\n",
       "   Fremont Bridge West Sidewalk  \n",
       "0                           9.0  \n",
       "1                           6.0  \n",
       "2                           1.0  \n",
       "3                           3.0  \n",
       "4                           1.0  "
      ]
     },
     "execution_count": 22,
     "metadata": {},
     "output_type": "execute_result"
    }
   ],
   "source": [
    "bike.head()"
   ]
  },
  {
   "cell_type": "markdown",
   "metadata": {},
   "source": [
    "## Weather Data\n",
    "\n",
    "The weather data comes from the Dark Sky API, which provides up to 1000 API requests daily for free with a registered API key.\n",
    "\n",
    "Dates for the Dark Sky API must be in this format: `[YYYY]-[MM]-[DD]T[HH]:[MM]:[SS]`"
   ]
  },
  {
   "cell_type": "code",
   "execution_count": 60,
   "metadata": {},
   "outputs": [],
   "source": [
    "#Set start and end dates for API calling\n",
    "start_date = datetime.fromisoformat('2012-10-03T12:00:00')\n",
    "end_date = datetime.fromisoformat('2019-10-03T12:00:00')\n",
    "#Set latitude/longitude for the Fremont Bridge (taken from Google Maps)\n",
    "lat = \"47.648170\"\n",
    "long = \"-122.349640\""
   ]
  },
  {
   "cell_type": "code",
   "execution_count": 15,
   "metadata": {},
   "outputs": [],
   "source": [
    "def get_keys(path):\n",
    "    with open(path) as f:\n",
    "        return json.load(f)"
   ]
  },
  {
   "cell_type": "code",
   "execution_count": 16,
   "metadata": {},
   "outputs": [],
   "source": [
    "keys = get_keys(\"/Users/wvsharber/.secret/darksky_api.json\")\n",
    "api_key = keys['api_key']"
   ]
  },
  {
   "cell_type": "code",
   "execution_count": 49,
   "metadata": {},
   "outputs": [
    {
     "data": {
      "text/plain": [
       "datetime.datetime(2012, 10, 4, 12, 0)"
      ]
     },
     "execution_count": 49,
     "metadata": {},
     "output_type": "execute_result"
    }
   ],
   "source": [
    "start_date + timedelta(days=1)"
   ]
  },
  {
   "cell_type": "code",
   "execution_count": 50,
   "metadata": {},
   "outputs": [
    {
     "data": {
      "text/plain": [
       "'2012-10-03T12:00:00'"
      ]
     },
     "execution_count": 50,
     "metadata": {},
     "output_type": "execute_result"
    }
   ],
   "source": [
    "start_date.isoformat()"
   ]
  },
  {
   "cell_type": "code",
   "execution_count": 73,
   "metadata": {},
   "outputs": [],
   "source": [
    "next_date = start_date\n",
    "counter = 0\n",
    "weather = pd.DataFrame()\n",
    "url_template = \"https://api.darksky.net/forecast/{}/{},{},{}?exclude=currently,minutely,hourly,alerts,flags\""
   ]
  },
  {
   "cell_type": "code",
   "execution_count": 88,
   "metadata": {},
   "outputs": [],
   "source": [
    "counter = 0"
   ]
  },
  {
   "cell_type": "code",
   "execution_count": 89,
   "metadata": {},
   "outputs": [],
   "source": [
    "while next_date <= end_date and counter <= 975:\n",
    "    request_url = url_template.format(api_key,\n",
    "                                      lat, #latitude\n",
    "                                      long, #longitude\n",
    "                                      next_date.isoformat())\n",
    "    response = requests.get(request_url)\n",
    "    if response.status_code == 200:\n",
    "        response_dict = response.json()\n",
    "        weather = weather.append(response_dict['daily']['data'][0], ignore_index = True)\n",
    "        next_date += timedelta(days=1)\n",
    "        counter += 1\n",
    "    else:\n",
    "        print(f\"Failed at {next_date}\")\n",
    "        break"
   ]
  },
  {
   "cell_type": "code",
   "execution_count": 93,
   "metadata": {},
   "outputs": [
    {
     "data": {
      "text/plain": [
       "datetime.datetime(2018, 2, 18, 12, 0)"
      ]
     },
     "execution_count": 93,
     "metadata": {},
     "output_type": "execute_result"
    }
   ],
   "source": [
    "next_date"
   ]
  },
  {
   "cell_type": "code",
   "execution_count": 85,
   "metadata": {
    "scrolled": true
   },
   "outputs": [
    {
     "data": {
      "text/plain": [
       "403"
      ]
     },
     "execution_count": 85,
     "metadata": {},
     "output_type": "execute_result"
    }
   ],
   "source": [
    "response.status_code"
   ]
  },
  {
   "cell_type": "code",
   "execution_count": 90,
   "metadata": {},
   "outputs": [
    {
     "data": {
      "text/plain": [
       "1964"
      ]
     },
     "execution_count": 90,
     "metadata": {},
     "output_type": "execute_result"
    }
   ],
   "source": [
    "len(weather)"
   ]
  },
  {
   "cell_type": "code",
   "execution_count": 91,
   "metadata": {},
   "outputs": [],
   "source": [
    "import pickle\n",
    "\n",
    "with open(\"../../data/raw/weather.pkl\", 'wb') as handle:\n",
    "    pickle.dump(weather, handle)"
   ]
  },
  {
   "cell_type": "code",
   "execution_count": 92,
   "metadata": {},
   "outputs": [
    {
     "data": {
      "text/html": [
       "<div>\n",
       "<style scoped>\n",
       "    .dataframe tbody tr th:only-of-type {\n",
       "        vertical-align: middle;\n",
       "    }\n",
       "\n",
       "    .dataframe tbody tr th {\n",
       "        vertical-align: top;\n",
       "    }\n",
       "\n",
       "    .dataframe thead th {\n",
       "        text-align: right;\n",
       "    }\n",
       "</style>\n",
       "<table border=\"1\" class=\"dataframe\">\n",
       "  <thead>\n",
       "    <tr style=\"text-align: right;\">\n",
       "      <th></th>\n",
       "      <th>apparentTemperatureHigh</th>\n",
       "      <th>apparentTemperatureHighTime</th>\n",
       "      <th>apparentTemperatureLow</th>\n",
       "      <th>apparentTemperatureLowTime</th>\n",
       "      <th>apparentTemperatureMax</th>\n",
       "      <th>apparentTemperatureMaxTime</th>\n",
       "      <th>apparentTemperatureMin</th>\n",
       "      <th>apparentTemperatureMinTime</th>\n",
       "      <th>cloudCover</th>\n",
       "      <th>dewPoint</th>\n",
       "      <th>...</th>\n",
       "      <th>temperatureMinTime</th>\n",
       "      <th>time</th>\n",
       "      <th>uvIndex</th>\n",
       "      <th>uvIndexTime</th>\n",
       "      <th>visibility</th>\n",
       "      <th>windBearing</th>\n",
       "      <th>windGust</th>\n",
       "      <th>windGustTime</th>\n",
       "      <th>windSpeed</th>\n",
       "      <th>precipAccumulation</th>\n",
       "    </tr>\n",
       "  </thead>\n",
       "  <tbody>\n",
       "    <tr>\n",
       "      <th>1959</th>\n",
       "      <td>47.17</td>\n",
       "      <td>1.518560e+09</td>\n",
       "      <td>32.70</td>\n",
       "      <td>1.518604e+09</td>\n",
       "      <td>47.17</td>\n",
       "      <td>1.518560e+09</td>\n",
       "      <td>30.26</td>\n",
       "      <td>1.518536e+09</td>\n",
       "      <td>0.45</td>\n",
       "      <td>29.28</td>\n",
       "      <td>...</td>\n",
       "      <td>1.518536e+09</td>\n",
       "      <td>1.518509e+09</td>\n",
       "      <td>2.0</td>\n",
       "      <td>1.518552e+09</td>\n",
       "      <td>10.000</td>\n",
       "      <td>159.0</td>\n",
       "      <td>11.15</td>\n",
       "      <td>1.518592e+09</td>\n",
       "      <td>1.26</td>\n",
       "      <td>NaN</td>\n",
       "    </tr>\n",
       "    <tr>\n",
       "      <th>1960</th>\n",
       "      <td>42.33</td>\n",
       "      <td>1.518654e+09</td>\n",
       "      <td>37.59</td>\n",
       "      <td>1.518696e+09</td>\n",
       "      <td>42.33</td>\n",
       "      <td>1.518654e+09</td>\n",
       "      <td>32.70</td>\n",
       "      <td>1.518604e+09</td>\n",
       "      <td>0.98</td>\n",
       "      <td>36.49</td>\n",
       "      <td>...</td>\n",
       "      <td>1.518600e+09</td>\n",
       "      <td>1.518595e+09</td>\n",
       "      <td>2.0</td>\n",
       "      <td>1.518640e+09</td>\n",
       "      <td>7.931</td>\n",
       "      <td>199.0</td>\n",
       "      <td>14.90</td>\n",
       "      <td>1.518603e+09</td>\n",
       "      <td>3.15</td>\n",
       "      <td>NaN</td>\n",
       "    </tr>\n",
       "    <tr>\n",
       "      <th>1961</th>\n",
       "      <td>44.59</td>\n",
       "      <td>1.518740e+09</td>\n",
       "      <td>38.10</td>\n",
       "      <td>1.518796e+09</td>\n",
       "      <td>44.59</td>\n",
       "      <td>1.518740e+09</td>\n",
       "      <td>37.59</td>\n",
       "      <td>1.518696e+09</td>\n",
       "      <td>0.87</td>\n",
       "      <td>36.96</td>\n",
       "      <td>...</td>\n",
       "      <td>1.518696e+09</td>\n",
       "      <td>1.518682e+09</td>\n",
       "      <td>2.0</td>\n",
       "      <td>1.518726e+09</td>\n",
       "      <td>10.000</td>\n",
       "      <td>181.0</td>\n",
       "      <td>7.80</td>\n",
       "      <td>1.518731e+09</td>\n",
       "      <td>1.96</td>\n",
       "      <td>NaN</td>\n",
       "    </tr>\n",
       "    <tr>\n",
       "      <th>1962</th>\n",
       "      <td>47.12</td>\n",
       "      <td>1.518833e+09</td>\n",
       "      <td>39.67</td>\n",
       "      <td>1.518879e+09</td>\n",
       "      <td>47.12</td>\n",
       "      <td>1.518833e+09</td>\n",
       "      <td>38.10</td>\n",
       "      <td>1.518796e+09</td>\n",
       "      <td>1.00</td>\n",
       "      <td>40.77</td>\n",
       "      <td>...</td>\n",
       "      <td>1.518783e+09</td>\n",
       "      <td>1.518768e+09</td>\n",
       "      <td>2.0</td>\n",
       "      <td>1.518813e+09</td>\n",
       "      <td>7.154</td>\n",
       "      <td>187.0</td>\n",
       "      <td>12.70</td>\n",
       "      <td>1.518811e+09</td>\n",
       "      <td>4.49</td>\n",
       "      <td>NaN</td>\n",
       "    </tr>\n",
       "    <tr>\n",
       "      <th>1963</th>\n",
       "      <td>50.96</td>\n",
       "      <td>1.518900e+09</td>\n",
       "      <td>32.97</td>\n",
       "      <td>1.518956e+09</td>\n",
       "      <td>50.96</td>\n",
       "      <td>1.518900e+09</td>\n",
       "      <td>36.28</td>\n",
       "      <td>1.518937e+09</td>\n",
       "      <td>0.83</td>\n",
       "      <td>40.52</td>\n",
       "      <td>...</td>\n",
       "      <td>1.518937e+09</td>\n",
       "      <td>1.518854e+09</td>\n",
       "      <td>2.0</td>\n",
       "      <td>1.518899e+09</td>\n",
       "      <td>4.893</td>\n",
       "      <td>199.0</td>\n",
       "      <td>24.76</td>\n",
       "      <td>1.518891e+09</td>\n",
       "      <td>7.56</td>\n",
       "      <td>NaN</td>\n",
       "    </tr>\n",
       "  </tbody>\n",
       "</table>\n",
       "<p>5 rows × 39 columns</p>\n",
       "</div>"
      ],
      "text/plain": [
       "      apparentTemperatureHigh  apparentTemperatureHighTime  \\\n",
       "1959                    47.17                 1.518560e+09   \n",
       "1960                    42.33                 1.518654e+09   \n",
       "1961                    44.59                 1.518740e+09   \n",
       "1962                    47.12                 1.518833e+09   \n",
       "1963                    50.96                 1.518900e+09   \n",
       "\n",
       "      apparentTemperatureLow  apparentTemperatureLowTime  \\\n",
       "1959                   32.70                1.518604e+09   \n",
       "1960                   37.59                1.518696e+09   \n",
       "1961                   38.10                1.518796e+09   \n",
       "1962                   39.67                1.518879e+09   \n",
       "1963                   32.97                1.518956e+09   \n",
       "\n",
       "      apparentTemperatureMax  apparentTemperatureMaxTime  \\\n",
       "1959                   47.17                1.518560e+09   \n",
       "1960                   42.33                1.518654e+09   \n",
       "1961                   44.59                1.518740e+09   \n",
       "1962                   47.12                1.518833e+09   \n",
       "1963                   50.96                1.518900e+09   \n",
       "\n",
       "      apparentTemperatureMin  apparentTemperatureMinTime  cloudCover  \\\n",
       "1959                   30.26                1.518536e+09        0.45   \n",
       "1960                   32.70                1.518604e+09        0.98   \n",
       "1961                   37.59                1.518696e+09        0.87   \n",
       "1962                   38.10                1.518796e+09        1.00   \n",
       "1963                   36.28                1.518937e+09        0.83   \n",
       "\n",
       "      dewPoint  ...  temperatureMinTime          time  uvIndex   uvIndexTime  \\\n",
       "1959     29.28  ...        1.518536e+09  1.518509e+09      2.0  1.518552e+09   \n",
       "1960     36.49  ...        1.518600e+09  1.518595e+09      2.0  1.518640e+09   \n",
       "1961     36.96  ...        1.518696e+09  1.518682e+09      2.0  1.518726e+09   \n",
       "1962     40.77  ...        1.518783e+09  1.518768e+09      2.0  1.518813e+09   \n",
       "1963     40.52  ...        1.518937e+09  1.518854e+09      2.0  1.518899e+09   \n",
       "\n",
       "      visibility  windBearing  windGust  windGustTime  windSpeed  \\\n",
       "1959      10.000        159.0     11.15  1.518592e+09       1.26   \n",
       "1960       7.931        199.0     14.90  1.518603e+09       3.15   \n",
       "1961      10.000        181.0      7.80  1.518731e+09       1.96   \n",
       "1962       7.154        187.0     12.70  1.518811e+09       4.49   \n",
       "1963       4.893        199.0     24.76  1.518891e+09       7.56   \n",
       "\n",
       "     precipAccumulation  \n",
       "1959                NaN  \n",
       "1960                NaN  \n",
       "1961                NaN  \n",
       "1962                NaN  \n",
       "1963                NaN  \n",
       "\n",
       "[5 rows x 39 columns]"
      ]
     },
     "execution_count": 92,
     "metadata": {},
     "output_type": "execute_result"
    }
   ],
   "source": [
    "weather.tail()"
   ]
  },
  {
   "cell_type": "code",
   "execution_count": null,
   "metadata": {},
   "outputs": [],
   "source": []
  }
 ],
 "metadata": {
  "kernelspec": {
   "display_name": "bike-env",
   "language": "python",
   "name": "bike-env"
  },
  "language_info": {
   "codemirror_mode": {
    "name": "ipython",
    "version": 3
   },
   "file_extension": ".py",
   "mimetype": "text/x-python",
   "name": "python",
   "nbconvert_exporter": "python",
   "pygments_lexer": "ipython3",
   "version": "3.8.3"
  }
 },
 "nbformat": 4,
 "nbformat_minor": 4
}
